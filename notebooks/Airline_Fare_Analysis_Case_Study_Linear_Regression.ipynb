{
 "cells": [
  {
   "cell_type": "markdown",
   "metadata": {},
   "source": [
    "# Description: \n",
    "Airfares and passengers for U.S. Domestic Routes\n",
    "for 4th Quarter of 2002."
   ]
  },
  {
   "cell_type": "markdown",
   "metadata": {},
   "source": [
    "# Variables/Columns\n",
    "\n",
    "City1   1-3\n",
    "\n",
    "City2   5-7\n",
    "\n",
    "Average Fare    11-17\n",
    "\n",
    "Distance      20-23\n",
    "\n",
    "Average weekly passengers   26-33\n",
    "\n",
    "market leading airline    36-37\n",
    "\n",
    "market share     40-45\n",
    "\n",
    "Average fare    48-54\n",
    "\n",
    "Low price airline   57-58\n",
    "\n",
    "market share    61-66\n",
    "\n",
    "price     69-75"
   ]
  },
  {
   "cell_type": "markdown",
   "metadata": {},
   "source": [
    "# Source: \n",
    "U.S. Department of Transportation"
   ]
  },
  {
   "cell_type": "markdown",
   "metadata": {},
   "source": [
    "# 1. Reading Source File and Checking Data"
   ]
  },
  {
   "cell_type": "code",
   "execution_count": 2,
   "metadata": {},
   "outputs": [],
   "source": [
    "import pandas as pd\n",
    "import numpy as np\n",
    "import matplotlib.pyplot as plt\n",
    "import seaborn as sns"
   ]
  },
  {
   "cell_type": "code",
   "execution_count": 3,
   "metadata": {},
   "outputs": [],
   "source": [
    "#reading source file\n",
    "file=pd.read_csv(\"http://users.stat.ufl.edu/~winner/data/airq402.dat\", sep='\\s+'  , engine='python')"
   ]
  },
  {
   "cell_type": "code",
   "execution_count": 4,
   "metadata": {},
   "outputs": [],
   "source": [
    "# Adding colunm names as mentioned in data file\n",
    "file.columns = ['City1', 'City2', 'Average Flight Fare', 'Distance','Average Weekly Passengers','Market Leading Airline (MLA)',\n",
    "               'Market Share MLA', 'Average MLA Fare', 'Low Price Airline (LPA)', 'Market Share LPA', 'Average LPA Fare']"
   ]
  },
  {
   "cell_type": "code",
   "execution_count": 5,
   "metadata": {},
   "outputs": [
    {
     "data": {
      "text/html": [
       "<div>\n",
       "<style scoped>\n",
       "    .dataframe tbody tr th:only-of-type {\n",
       "        vertical-align: middle;\n",
       "    }\n",
       "\n",
       "    .dataframe tbody tr th {\n",
       "        vertical-align: top;\n",
       "    }\n",
       "\n",
       "    .dataframe thead th {\n",
       "        text-align: right;\n",
       "    }\n",
       "</style>\n",
       "<table border=\"1\" class=\"dataframe\">\n",
       "  <thead>\n",
       "    <tr style=\"text-align: right;\">\n",
       "      <th></th>\n",
       "      <th>City1</th>\n",
       "      <th>City2</th>\n",
       "      <th>Average Flight Fare</th>\n",
       "      <th>Distance</th>\n",
       "      <th>Average Weekly Passengers</th>\n",
       "      <th>Market Leading Airline (MLA)</th>\n",
       "      <th>Market Share MLA</th>\n",
       "      <th>Average MLA Fare</th>\n",
       "      <th>Low Price Airline (LPA)</th>\n",
       "      <th>Market Share LPA</th>\n",
       "      <th>Average LPA Fare</th>\n",
       "    </tr>\n",
       "  </thead>\n",
       "  <tbody>\n",
       "    <tr>\n",
       "      <th>0</th>\n",
       "      <td>CAK</td>\n",
       "      <td>MCO</td>\n",
       "      <td>122.47</td>\n",
       "      <td>860</td>\n",
       "      <td>276.84</td>\n",
       "      <td>FL</td>\n",
       "      <td>75.10</td>\n",
       "      <td>123.09</td>\n",
       "      <td>DL</td>\n",
       "      <td>17.23</td>\n",
       "      <td>118.94</td>\n",
       "    </tr>\n",
       "    <tr>\n",
       "      <th>1</th>\n",
       "      <td>ALB</td>\n",
       "      <td>ATL</td>\n",
       "      <td>214.42</td>\n",
       "      <td>852</td>\n",
       "      <td>215.76</td>\n",
       "      <td>DL</td>\n",
       "      <td>78.89</td>\n",
       "      <td>223.98</td>\n",
       "      <td>CO</td>\n",
       "      <td>2.77</td>\n",
       "      <td>167.12</td>\n",
       "    </tr>\n",
       "    <tr>\n",
       "      <th>2</th>\n",
       "      <td>ALB</td>\n",
       "      <td>BWI</td>\n",
       "      <td>69.40</td>\n",
       "      <td>288</td>\n",
       "      <td>606.84</td>\n",
       "      <td>WN</td>\n",
       "      <td>96.97</td>\n",
       "      <td>68.86</td>\n",
       "      <td>WN</td>\n",
       "      <td>96.97</td>\n",
       "      <td>68.86</td>\n",
       "    </tr>\n",
       "    <tr>\n",
       "      <th>3</th>\n",
       "      <td>ALB</td>\n",
       "      <td>ORD</td>\n",
       "      <td>158.13</td>\n",
       "      <td>723</td>\n",
       "      <td>313.04</td>\n",
       "      <td>UA</td>\n",
       "      <td>39.79</td>\n",
       "      <td>161.36</td>\n",
       "      <td>WN</td>\n",
       "      <td>15.34</td>\n",
       "      <td>145.42</td>\n",
       "    </tr>\n",
       "    <tr>\n",
       "      <th>4</th>\n",
       "      <td>ALB</td>\n",
       "      <td>FLL</td>\n",
       "      <td>135.17</td>\n",
       "      <td>1204</td>\n",
       "      <td>199.02</td>\n",
       "      <td>WN</td>\n",
       "      <td>40.68</td>\n",
       "      <td>137.97</td>\n",
       "      <td>DL</td>\n",
       "      <td>17.09</td>\n",
       "      <td>127.69</td>\n",
       "    </tr>\n",
       "  </tbody>\n",
       "</table>\n",
       "</div>"
      ],
      "text/plain": [
       "  City1 City2  Average Flight Fare  Distance  Average Weekly Passengers  \\\n",
       "0   CAK   MCO               122.47       860                     276.84   \n",
       "1   ALB   ATL               214.42       852                     215.76   \n",
       "2   ALB   BWI                69.40       288                     606.84   \n",
       "3   ALB   ORD               158.13       723                     313.04   \n",
       "4   ALB   FLL               135.17      1204                     199.02   \n",
       "\n",
       "  Market Leading Airline (MLA)  Market Share MLA  Average MLA Fare  \\\n",
       "0                           FL             75.10            123.09   \n",
       "1                           DL             78.89            223.98   \n",
       "2                           WN             96.97             68.86   \n",
       "3                           UA             39.79            161.36   \n",
       "4                           WN             40.68            137.97   \n",
       "\n",
       "  Low Price Airline (LPA)  Market Share LPA  Average LPA Fare  \n",
       "0                      DL             17.23            118.94  \n",
       "1                      CO              2.77            167.12  \n",
       "2                      WN             96.97             68.86  \n",
       "3                      WN             15.34            145.42  \n",
       "4                      DL             17.09            127.69  "
      ]
     },
     "execution_count": 5,
     "metadata": {},
     "output_type": "execute_result"
    }
   ],
   "source": [
    "file.head()"
   ]
  },
  {
   "cell_type": "markdown",
   "metadata": {},
   "source": [
    "# 2. Data Cleaning"
   ]
  },
  {
   "cell_type": "code",
   "execution_count": 7,
   "metadata": {},
   "outputs": [
    {
     "name": "stdout",
     "output_type": "stream",
     "text": [
      " Shape of the dataframe = (999, 11)\n",
      " Total number of rows in the dataset =  999\n"
     ]
    }
   ],
   "source": [
    "# getting total number of rows and column in the dataframe\n",
    "print(f\" Shape of the dataframe = {file.shape}\")\n",
    "totalrows=file.shape[0]\n",
    "print(f\" Total number of rows in the dataset =  {totalrows}\")"
   ]
  },
  {
   "cell_type": "code",
   "execution_count": 8,
   "metadata": {},
   "outputs": [
    {
     "data": {
      "text/plain": [
       "City1                           0\n",
       "City2                           0\n",
       "Average Flight Fare             0\n",
       "Distance                        0\n",
       "Average Weekly Passengers       0\n",
       "Market Leading Airline (MLA)    0\n",
       "Market Share MLA                0\n",
       "Average MLA Fare                0\n",
       "Low Price Airline (LPA)         0\n",
       "Market Share LPA                0\n",
       "Average LPA Fare                0\n",
       "dtype: int64"
      ]
     },
     "execution_count": 8,
     "metadata": {},
     "output_type": "execute_result"
    }
   ],
   "source": [
    "# Checking Null colunms\n",
    "file_nullcols = file.isnull().sum()\n",
    "file_nullcols\n",
    "\n",
    "# No null values are found"
   ]
  },
  {
   "cell_type": "code",
   "execution_count": 9,
   "metadata": {},
   "outputs": [
    {
     "data": {
      "text/plain": [
       "City1                            object\n",
       "City2                            object\n",
       "Average Flight Fare             float64\n",
       "Distance                          int64\n",
       "Average Weekly Passengers       float64\n",
       "Market Leading Airline (MLA)     object\n",
       "Market Share MLA                float64\n",
       "Average MLA Fare                float64\n",
       "Low Price Airline (LPA)          object\n",
       "Market Share LPA                float64\n",
       "Average LPA Fare                float64\n",
       "dtype: object"
      ]
     },
     "execution_count": 9,
     "metadata": {},
     "output_type": "execute_result"
    }
   ],
   "source": [
    "# Checking data type of each colunm to check if any type needs to be changed\n",
    "file.dtypes"
   ]
  },
  {
   "cell_type": "code",
   "execution_count": 10,
   "metadata": {},
   "outputs": [
    {
     "data": {
      "text/html": [
       "<div>\n",
       "<style scoped>\n",
       "    .dataframe tbody tr th:only-of-type {\n",
       "        vertical-align: middle;\n",
       "    }\n",
       "\n",
       "    .dataframe tbody tr th {\n",
       "        vertical-align: top;\n",
       "    }\n",
       "\n",
       "    .dataframe thead th {\n",
       "        text-align: right;\n",
       "    }\n",
       "</style>\n",
       "<table border=\"1\" class=\"dataframe\">\n",
       "  <thead>\n",
       "    <tr style=\"text-align: right;\">\n",
       "      <th></th>\n",
       "      <th>Average Flight Fare</th>\n",
       "      <th>Distance</th>\n",
       "      <th>Average Weekly Passengers</th>\n",
       "      <th>Market Share MLA</th>\n",
       "      <th>Average MLA Fare</th>\n",
       "      <th>Market Share LPA</th>\n",
       "      <th>Average LPA Fare</th>\n",
       "    </tr>\n",
       "  </thead>\n",
       "  <tbody>\n",
       "    <tr>\n",
       "      <th>count</th>\n",
       "      <td>999.000000</td>\n",
       "      <td>999.000000</td>\n",
       "      <td>999.000000</td>\n",
       "      <td>999.000000</td>\n",
       "      <td>999.000000</td>\n",
       "      <td>999.000000</td>\n",
       "      <td>999.000000</td>\n",
       "    </tr>\n",
       "    <tr>\n",
       "      <th>mean</th>\n",
       "      <td>163.424374</td>\n",
       "      <td>1057.502503</td>\n",
       "      <td>672.527107</td>\n",
       "      <td>60.118519</td>\n",
       "      <td>166.703233</td>\n",
       "      <td>34.515806</td>\n",
       "      <td>143.225285</td>\n",
       "    </tr>\n",
       "    <tr>\n",
       "      <th>std</th>\n",
       "      <td>55.371544</td>\n",
       "      <td>643.307320</td>\n",
       "      <td>766.863056</td>\n",
       "      <td>19.374859</td>\n",
       "      <td>62.666775</td>\n",
       "      <td>27.087067</td>\n",
       "      <td>47.241860</td>\n",
       "    </tr>\n",
       "    <tr>\n",
       "      <th>min</th>\n",
       "      <td>50.520000</td>\n",
       "      <td>108.000000</td>\n",
       "      <td>181.410000</td>\n",
       "      <td>17.680000</td>\n",
       "      <td>50.520000</td>\n",
       "      <td>1.060000</td>\n",
       "      <td>49.610000</td>\n",
       "    </tr>\n",
       "    <tr>\n",
       "      <th>25%</th>\n",
       "      <td>126.025000</td>\n",
       "      <td>554.000000</td>\n",
       "      <td>257.115000</td>\n",
       "      <td>46.510000</td>\n",
       "      <td>124.120000</td>\n",
       "      <td>13.190000</td>\n",
       "      <td>113.825000</td>\n",
       "    </tr>\n",
       "    <tr>\n",
       "      <th>50%</th>\n",
       "      <td>161.360000</td>\n",
       "      <td>919.000000</td>\n",
       "      <td>404.780000</td>\n",
       "      <td>59.060000</td>\n",
       "      <td>161.440000</td>\n",
       "      <td>26.120000</td>\n",
       "      <td>137.830000</td>\n",
       "    </tr>\n",
       "    <tr>\n",
       "      <th>75%</th>\n",
       "      <td>197.435000</td>\n",
       "      <td>1455.000000</td>\n",
       "      <td>770.265000</td>\n",
       "      <td>73.520000</td>\n",
       "      <td>203.105000</td>\n",
       "      <td>52.950000</td>\n",
       "      <td>168.540000</td>\n",
       "    </tr>\n",
       "    <tr>\n",
       "      <th>max</th>\n",
       "      <td>401.230000</td>\n",
       "      <td>2724.000000</td>\n",
       "      <td>8950.760000</td>\n",
       "      <td>100.000000</td>\n",
       "      <td>490.030000</td>\n",
       "      <td>100.000000</td>\n",
       "      <td>387.940000</td>\n",
       "    </tr>\n",
       "  </tbody>\n",
       "</table>\n",
       "</div>"
      ],
      "text/plain": [
       "       Average Flight Fare     Distance  Average Weekly Passengers  \\\n",
       "count           999.000000   999.000000                 999.000000   \n",
       "mean            163.424374  1057.502503                 672.527107   \n",
       "std              55.371544   643.307320                 766.863056   \n",
       "min              50.520000   108.000000                 181.410000   \n",
       "25%             126.025000   554.000000                 257.115000   \n",
       "50%             161.360000   919.000000                 404.780000   \n",
       "75%             197.435000  1455.000000                 770.265000   \n",
       "max             401.230000  2724.000000                8950.760000   \n",
       "\n",
       "       Market Share MLA  Average MLA Fare  Market Share LPA  Average LPA Fare  \n",
       "count        999.000000        999.000000        999.000000        999.000000  \n",
       "mean          60.118519        166.703233         34.515806        143.225285  \n",
       "std           19.374859         62.666775         27.087067         47.241860  \n",
       "min           17.680000         50.520000          1.060000         49.610000  \n",
       "25%           46.510000        124.120000         13.190000        113.825000  \n",
       "50%           59.060000        161.440000         26.120000        137.830000  \n",
       "75%           73.520000        203.105000         52.950000        168.540000  \n",
       "max          100.000000        490.030000        100.000000        387.940000  "
      ]
     },
     "execution_count": 10,
     "metadata": {},
     "output_type": "execute_result"
    }
   ],
   "source": [
    "# Checking basic details of the data\n",
    "file.describe()"
   ]
  },
  {
   "cell_type": "code",
   "execution_count": 11,
   "metadata": {},
   "outputs": [],
   "source": [
    "\n",
    "# Mean of distance, Average Weekly Passengers, Market share is above median\n",
    "#These prima facie seem to have outliers"
   ]
  },
  {
   "cell_type": "markdown",
   "metadata": {},
   "source": [
    "# 3. EDA"
   ]
  },
  {
   "cell_type": "code",
   "execution_count": null,
   "metadata": {},
   "outputs": [],
   "source": []
  }
 ],
 "metadata": {
  "kernelspec": {
   "display_name": "Python 3",
   "language": "python",
   "name": "python3"
  },
  "language_info": {
   "codemirror_mode": {
    "name": "ipython",
    "version": 3
   },
   "file_extension": ".py",
   "mimetype": "text/x-python",
   "name": "python",
   "nbconvert_exporter": "python",
   "pygments_lexer": "ipython3",
   "version": "3.10.13"
  }
 },
 "nbformat": 4,
 "nbformat_minor": 2
}
